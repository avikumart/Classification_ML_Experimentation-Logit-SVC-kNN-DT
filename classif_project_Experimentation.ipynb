{
 "cells": [
  {
   "cell_type": "code",
   "execution_count": 1,
   "metadata": {},
   "outputs": [],
   "source": [
    "import numpy as np\n",
    "import pandas as pd\n",
    "import matplotlib.pyplot as plt\n",
    "from sklearn.svm import SVC\n",
    "from sklearn.metrics import classification_report, accuracy_score, roc_auc_score\n",
    "import statsmodels.api as sm\n",
    "from sklearn.model_selection import train_test_split\n",
    "from sklearn.preprocessing import MinMaxScaler\n",
    "from sklearn.neighbors import KNeighborsClassifier\n",
    "from sklearn.tree import DecisionTreeClassifier"
   ]
  },
  {
   "cell_type": "markdown",
   "metadata": {},
   "source": [
    "> Basic data analysis and data understanding"
   ]
  },
  {
   "cell_type": "code",
   "execution_count": 2,
   "metadata": {},
   "outputs": [],
   "source": [
    "df = pd.read_csv(\"Earnings Manipulation 220.csv\")"
   ]
  },
  {
   "cell_type": "code",
   "execution_count": 3,
   "metadata": {},
   "outputs": [
    {
     "data": {
      "text/plain": [
       "(220, 11)"
      ]
     },
     "execution_count": 3,
     "metadata": {},
     "output_type": "execute_result"
    }
   ],
   "source": [
    "df.shape"
   ]
  },
  {
   "cell_type": "code",
   "execution_count": 4,
   "metadata": {},
   "outputs": [
    {
     "data": {
      "text/html": [
       "<div>\n",
       "<style scoped>\n",
       "    .dataframe tbody tr th:only-of-type {\n",
       "        vertical-align: middle;\n",
       "    }\n",
       "\n",
       "    .dataframe tbody tr th {\n",
       "        vertical-align: top;\n",
       "    }\n",
       "\n",
       "    .dataframe thead th {\n",
       "        text-align: right;\n",
       "    }\n",
       "</style>\n",
       "<table border=\"1\" class=\"dataframe\">\n",
       "  <thead>\n",
       "    <tr style=\"text-align: right;\">\n",
       "      <th></th>\n",
       "      <th>Company Name</th>\n",
       "      <th>Year Ending</th>\n",
       "      <th>DSRI</th>\n",
       "      <th>GMI</th>\n",
       "      <th>AQI</th>\n",
       "      <th>SGI</th>\n",
       "      <th>DEPI</th>\n",
       "      <th>SGAI</th>\n",
       "      <th>ACCR</th>\n",
       "      <th>LEVI</th>\n",
       "      <th>MANIPULATOR</th>\n",
       "    </tr>\n",
       "  </thead>\n",
       "  <tbody>\n",
       "    <tr>\n",
       "      <th>0</th>\n",
       "      <td>1</td>\n",
       "      <td>31-03-2014</td>\n",
       "      <td>1.624742</td>\n",
       "      <td>1.128927</td>\n",
       "      <td>7.185053</td>\n",
       "      <td>0.366211</td>\n",
       "      <td>1.381519</td>\n",
       "      <td>1.624145</td>\n",
       "      <td>-0.166809</td>\n",
       "      <td>1.161082</td>\n",
       "      <td>1</td>\n",
       "    </tr>\n",
       "    <tr>\n",
       "      <th>1</th>\n",
       "      <td>2</td>\n",
       "      <td>31-03-2009</td>\n",
       "      <td>1.000000</td>\n",
       "      <td>1.606492</td>\n",
       "      <td>1.004988</td>\n",
       "      <td>13.081433</td>\n",
       "      <td>0.400000</td>\n",
       "      <td>5.198207</td>\n",
       "      <td>0.060475</td>\n",
       "      <td>0.986732</td>\n",
       "      <td>1</td>\n",
       "    </tr>\n",
       "    <tr>\n",
       "      <th>2</th>\n",
       "      <td>3</td>\n",
       "      <td>31-03-2008</td>\n",
       "      <td>1.000000</td>\n",
       "      <td>1.015607</td>\n",
       "      <td>1.241389</td>\n",
       "      <td>1.475018</td>\n",
       "      <td>1.169353</td>\n",
       "      <td>0.647671</td>\n",
       "      <td>0.036732</td>\n",
       "      <td>1.264305</td>\n",
       "      <td>1</td>\n",
       "    </tr>\n",
       "    <tr>\n",
       "      <th>3</th>\n",
       "      <td>4</td>\n",
       "      <td>31-03-2014</td>\n",
       "      <td>1.486239</td>\n",
       "      <td>1.000000</td>\n",
       "      <td>0.465535</td>\n",
       "      <td>0.672840</td>\n",
       "      <td>2.000000</td>\n",
       "      <td>0.092890</td>\n",
       "      <td>0.273434</td>\n",
       "      <td>0.680975</td>\n",
       "      <td>1</td>\n",
       "    </tr>\n",
       "    <tr>\n",
       "      <th>4</th>\n",
       "      <td>5</td>\n",
       "      <td>31-03-2010</td>\n",
       "      <td>1.000000</td>\n",
       "      <td>1.369038</td>\n",
       "      <td>0.637112</td>\n",
       "      <td>0.861346</td>\n",
       "      <td>1.454676</td>\n",
       "      <td>1.741460</td>\n",
       "      <td>0.123048</td>\n",
       "      <td>0.939047</td>\n",
       "      <td>1</td>\n",
       "    </tr>\n",
       "  </tbody>\n",
       "</table>\n",
       "</div>"
      ],
      "text/plain": [
       "   Company Name Year Ending      DSRI       GMI       AQI        SGI  \\\n",
       "0             1  31-03-2014  1.624742  1.128927  7.185053   0.366211   \n",
       "1             2  31-03-2009  1.000000  1.606492  1.004988  13.081433   \n",
       "2             3  31-03-2008  1.000000  1.015607  1.241389   1.475018   \n",
       "3             4  31-03-2014  1.486239  1.000000  0.465535   0.672840   \n",
       "4             5  31-03-2010  1.000000  1.369038  0.637112   0.861346   \n",
       "\n",
       "       DEPI      SGAI      ACCR      LEVI  MANIPULATOR  \n",
       "0  1.381519  1.624145 -0.166809  1.161082            1  \n",
       "1  0.400000  5.198207  0.060475  0.986732            1  \n",
       "2  1.169353  0.647671  0.036732  1.264305            1  \n",
       "3  2.000000  0.092890  0.273434  0.680975            1  \n",
       "4  1.454676  1.741460  0.123048  0.939047            1  "
      ]
     },
     "execution_count": 4,
     "metadata": {},
     "output_type": "execute_result"
    }
   ],
   "source": [
    "df.head()"
   ]
  },
  {
   "cell_type": "code",
   "execution_count": 5,
   "metadata": {},
   "outputs": [
    {
     "data": {
      "text/html": [
       "<div>\n",
       "<style scoped>\n",
       "    .dataframe tbody tr th:only-of-type {\n",
       "        vertical-align: middle;\n",
       "    }\n",
       "\n",
       "    .dataframe tbody tr th {\n",
       "        vertical-align: top;\n",
       "    }\n",
       "\n",
       "    .dataframe thead th {\n",
       "        text-align: right;\n",
       "    }\n",
       "</style>\n",
       "<table border=\"1\" class=\"dataframe\">\n",
       "  <thead>\n",
       "    <tr style=\"text-align: right;\">\n",
       "      <th></th>\n",
       "      <th>Company Name</th>\n",
       "      <th>DSRI</th>\n",
       "      <th>GMI</th>\n",
       "      <th>AQI</th>\n",
       "      <th>SGI</th>\n",
       "      <th>DEPI</th>\n",
       "      <th>SGAI</th>\n",
       "      <th>ACCR</th>\n",
       "      <th>LEVI</th>\n",
       "      <th>MANIPULATOR</th>\n",
       "    </tr>\n",
       "  </thead>\n",
       "  <tbody>\n",
       "    <tr>\n",
       "      <th>count</th>\n",
       "      <td>220.000000</td>\n",
       "      <td>220.000000</td>\n",
       "      <td>220.000000</td>\n",
       "      <td>220.000000</td>\n",
       "      <td>220.000000</td>\n",
       "      <td>220.000000</td>\n",
       "      <td>220.000000</td>\n",
       "      <td>220.000000</td>\n",
       "      <td>220.000000</td>\n",
       "      <td>220.000000</td>\n",
       "    </tr>\n",
       "    <tr>\n",
       "      <th>mean</th>\n",
       "      <td>110.500000</td>\n",
       "      <td>1.523289</td>\n",
       "      <td>1.103023</td>\n",
       "      <td>1.353839</td>\n",
       "      <td>1.217928</td>\n",
       "      <td>1.030118</td>\n",
       "      <td>1.413396</td>\n",
       "      <td>-0.016890</td>\n",
       "      <td>1.108600</td>\n",
       "      <td>0.177273</td>\n",
       "    </tr>\n",
       "    <tr>\n",
       "      <th>std</th>\n",
       "      <td>63.652704</td>\n",
       "      <td>2.828754</td>\n",
       "      <td>3.453701</td>\n",
       "      <td>3.903195</td>\n",
       "      <td>1.223330</td>\n",
       "      <td>0.354056</td>\n",
       "      <td>3.383294</td>\n",
       "      <td>0.128853</td>\n",
       "      <td>1.018647</td>\n",
       "      <td>0.382770</td>\n",
       "    </tr>\n",
       "    <tr>\n",
       "      <th>min</th>\n",
       "      <td>1.000000</td>\n",
       "      <td>0.015096</td>\n",
       "      <td>-20.811849</td>\n",
       "      <td>-4.712397</td>\n",
       "      <td>0.027685</td>\n",
       "      <td>0.068823</td>\n",
       "      <td>0.092890</td>\n",
       "      <td>-0.592258</td>\n",
       "      <td>0.000000</td>\n",
       "      <td>0.000000</td>\n",
       "    </tr>\n",
       "    <tr>\n",
       "      <th>25%</th>\n",
       "      <td>55.750000</td>\n",
       "      <td>0.917511</td>\n",
       "      <td>0.932569</td>\n",
       "      <td>0.785517</td>\n",
       "      <td>0.962646</td>\n",
       "      <td>0.930413</td>\n",
       "      <td>0.899463</td>\n",
       "      <td>-0.071370</td>\n",
       "      <td>0.913937</td>\n",
       "      <td>0.000000</td>\n",
       "    </tr>\n",
       "    <tr>\n",
       "      <th>50%</th>\n",
       "      <td>110.500000</td>\n",
       "      <td>1.044853</td>\n",
       "      <td>1.000000</td>\n",
       "      <td>1.015498</td>\n",
       "      <td>1.084642</td>\n",
       "      <td>1.002396</td>\n",
       "      <td>1.011575</td>\n",
       "      <td>-0.014814</td>\n",
       "      <td>1.007465</td>\n",
       "      <td>0.000000</td>\n",
       "    </tr>\n",
       "    <tr>\n",
       "      <th>75%</th>\n",
       "      <td>165.250000</td>\n",
       "      <td>1.300227</td>\n",
       "      <td>1.094988</td>\n",
       "      <td>1.192857</td>\n",
       "      <td>1.243118</td>\n",
       "      <td>1.087991</td>\n",
       "      <td>1.204553</td>\n",
       "      <td>0.028612</td>\n",
       "      <td>1.108551</td>\n",
       "      <td>0.000000</td>\n",
       "    </tr>\n",
       "    <tr>\n",
       "      <th>max</th>\n",
       "      <td>220.000000</td>\n",
       "      <td>36.291185</td>\n",
       "      <td>46.466667</td>\n",
       "      <td>52.886734</td>\n",
       "      <td>13.081433</td>\n",
       "      <td>4.229119</td>\n",
       "      <td>49.301781</td>\n",
       "      <td>0.717842</td>\n",
       "      <td>13.058559</td>\n",
       "      <td>1.000000</td>\n",
       "    </tr>\n",
       "  </tbody>\n",
       "</table>\n",
       "</div>"
      ],
      "text/plain": [
       "       Company Name        DSRI         GMI         AQI         SGI  \\\n",
       "count    220.000000  220.000000  220.000000  220.000000  220.000000   \n",
       "mean     110.500000    1.523289    1.103023    1.353839    1.217928   \n",
       "std       63.652704    2.828754    3.453701    3.903195    1.223330   \n",
       "min        1.000000    0.015096  -20.811849   -4.712397    0.027685   \n",
       "25%       55.750000    0.917511    0.932569    0.785517    0.962646   \n",
       "50%      110.500000    1.044853    1.000000    1.015498    1.084642   \n",
       "75%      165.250000    1.300227    1.094988    1.192857    1.243118   \n",
       "max      220.000000   36.291185   46.466667   52.886734   13.081433   \n",
       "\n",
       "             DEPI        SGAI        ACCR        LEVI  MANIPULATOR  \n",
       "count  220.000000  220.000000  220.000000  220.000000   220.000000  \n",
       "mean     1.030118    1.413396   -0.016890    1.108600     0.177273  \n",
       "std      0.354056    3.383294    0.128853    1.018647     0.382770  \n",
       "min      0.068823    0.092890   -0.592258    0.000000     0.000000  \n",
       "25%      0.930413    0.899463   -0.071370    0.913937     0.000000  \n",
       "50%      1.002396    1.011575   -0.014814    1.007465     0.000000  \n",
       "75%      1.087991    1.204553    0.028612    1.108551     0.000000  \n",
       "max      4.229119   49.301781    0.717842   13.058559     1.000000  "
      ]
     },
     "execution_count": 5,
     "metadata": {},
     "output_type": "execute_result"
    }
   ],
   "source": [
    "df.describe()"
   ]
  },
  {
   "cell_type": "code",
   "execution_count": 6,
   "metadata": {},
   "outputs": [
    {
     "name": "stderr",
     "output_type": "stream",
     "text": [
      "C:\\Users\\Avi\\AppData\\Local\\Temp\\ipykernel_21560\\530051474.py:1: FutureWarning: Dropping of nuisance columns in DataFrame reductions (with 'numeric_only=None') is deprecated; in a future version this will raise TypeError.  Select only valid columns before calling the reduction.\n",
      "  df.median()\n"
     ]
    },
    {
     "data": {
      "text/plain": [
       "Company Name    110.500000\n",
       "DSRI              1.044853\n",
       "GMI               1.000000\n",
       "AQI               1.015498\n",
       "SGI               1.084642\n",
       "DEPI              1.002396\n",
       "SGAI              1.011575\n",
       "ACCR             -0.014814\n",
       "LEVI              1.007465\n",
       "MANIPULATOR       0.000000\n",
       "dtype: float64"
      ]
     },
     "execution_count": 6,
     "metadata": {},
     "output_type": "execute_result"
    }
   ],
   "source": [
    "df.median()"
   ]
  },
  {
   "cell_type": "code",
   "execution_count": 7,
   "metadata": {},
   "outputs": [
    {
     "name": "stdout",
     "output_type": "stream",
     "text": [
      "<class 'pandas.core.frame.DataFrame'>\n",
      "RangeIndex: 220 entries, 0 to 219\n",
      "Data columns (total 11 columns):\n",
      " #   Column        Non-Null Count  Dtype  \n",
      "---  ------        --------------  -----  \n",
      " 0   Company Name  220 non-null    int64  \n",
      " 1   Year Ending   220 non-null    object \n",
      " 2   DSRI          220 non-null    float64\n",
      " 3   GMI           220 non-null    float64\n",
      " 4   AQI           220 non-null    float64\n",
      " 5   SGI           220 non-null    float64\n",
      " 6   DEPI          220 non-null    float64\n",
      " 7   SGAI          220 non-null    float64\n",
      " 8   ACCR          220 non-null    float64\n",
      " 9   LEVI          220 non-null    float64\n",
      " 10  MANIPULATOR   220 non-null    int64  \n",
      "dtypes: float64(8), int64(2), object(1)\n",
      "memory usage: 19.0+ KB\n"
     ]
    }
   ],
   "source": [
    "df.info()"
   ]
  },
  {
   "cell_type": "code",
   "execution_count": 8,
   "metadata": {},
   "outputs": [
    {
     "data": {
      "text/plain": [
       "0    181\n",
       "1     39\n",
       "Name: MANIPULATOR, dtype: int64"
      ]
     },
     "execution_count": 8,
     "metadata": {},
     "output_type": "execute_result"
    }
   ],
   "source": [
    "df.MANIPULATOR.value_counts()"
   ]
  },
  {
   "cell_type": "markdown",
   "metadata": {},
   "source": [
    "> Taget variable is unbalanced "
   ]
  },
  {
   "cell_type": "markdown",
   "metadata": {},
   "source": [
    "> workflow:\n",
    "1. Logistic regression model for baseline\n",
    "2. scale the data\n",
    "3. SVM and k-NN\n",
    "4. Decision tree model"
   ]
  },
  {
   "cell_type": "markdown",
   "metadata": {},
   "source": [
    "> Logistic regression model"
   ]
  },
  {
   "cell_type": "code",
   "execution_count": 9,
   "metadata": {},
   "outputs": [
    {
     "name": "stdout",
     "output_type": "stream",
     "text": [
      "Optimization terminated successfully.\n",
      "         Current function value: 0.285326\n",
      "         Iterations 9\n"
     ]
    },
    {
     "data": {
      "text/html": [
       "<table class=\"simpletable\">\n",
       "<tr>\n",
       "        <td>Model:</td>              <td>Logit</td>      <td>Pseudo R-squared:</td>    <td>0.409</td>  \n",
       "</tr>\n",
       "<tr>\n",
       "  <td>Dependent Variable:</td>    <td>MANIPULATOR</td>         <td>AIC:</td>         <td>118.4349</td> \n",
       "</tr>\n",
       "<tr>\n",
       "         <td>Date:</td>        <td>2022-05-27 18:19</td>       <td>BIC:</td>         <td>146.9693</td> \n",
       "</tr>\n",
       "<tr>\n",
       "   <td>No. Observations:</td>         <td>176</td>        <td>Log-Likelihood:</td>    <td>-50.217</td> \n",
       "</tr>\n",
       "<tr>\n",
       "       <td>Df Model:</td>              <td>8</td>            <td>LL-Null:</td>        <td>-84.934</td> \n",
       "</tr>\n",
       "<tr>\n",
       "     <td>Df Residuals:</td>           <td>167</td>         <td>LLR p-value:</td>    <td>6.3743e-12</td>\n",
       "</tr>\n",
       "<tr>\n",
       "      <td>Converged:</td>           <td>1.0000</td>           <td>Scale:</td>         <td>1.0000</td>  \n",
       "</tr>\n",
       "<tr>\n",
       "    <td>No. Iterations:</td>        <td>9.0000</td>              <td></td>               <td></td>     \n",
       "</tr>\n",
       "</table>\n",
       "<table class=\"simpletable\">\n",
       "<tr>\n",
       "    <td></td>     <th>Coef.</th>  <th>Std.Err.</th>    <th>z</th>     <th>P>|z|</th>  <th>[0.025</th>  <th>0.975]</th> \n",
       "</tr>\n",
       "<tr>\n",
       "  <th>const</th> <td>-8.7195</td>  <td>1.8317</td>  <td>-4.7603</td> <td>0.0000</td> <td>-12.3095</td> <td>-5.1294</td>\n",
       "</tr>\n",
       "<tr>\n",
       "  <th>DSRI</th>  <td>1.1200</td>   <td>0.4129</td>  <td>2.7123</td>  <td>0.0067</td>  <td>0.3107</td>  <td>1.9293</td> \n",
       "</tr>\n",
       "<tr>\n",
       "  <th>GMI</th>   <td>1.3670</td>   <td>0.4326</td>  <td>3.1603</td>  <td>0.0016</td>  <td>0.5192</td>  <td>2.2148</td> \n",
       "</tr>\n",
       "<tr>\n",
       "  <th>AQI</th>   <td>0.5429</td>   <td>0.1390</td>  <td>3.9054</td>  <td>0.0001</td>  <td>0.2704</td>  <td>0.8153</td> \n",
       "</tr>\n",
       "<tr>\n",
       "  <th>SGI</th>   <td>1.9698</td>   <td>0.6559</td>  <td>3.0032</td>  <td>0.0027</td>  <td>0.6842</td>  <td>3.2553</td> \n",
       "</tr>\n",
       "<tr>\n",
       "  <th>DEPI</th>  <td>0.9152</td>   <td>0.6984</td>  <td>1.3104</td>  <td>0.1901</td>  <td>-0.4537</td> <td>2.2840</td> \n",
       "</tr>\n",
       "<tr>\n",
       "  <th>SGAI</th>  <td>0.2064</td>   <td>0.4273</td>  <td>0.4831</td>  <td>0.6290</td>  <td>-0.6310</td> <td>1.0439</td> \n",
       "</tr>\n",
       "<tr>\n",
       "  <th>ACCR</th>  <td>8.5025</td>   <td>2.1812</td>  <td>3.8981</td>  <td>0.0001</td>  <td>4.2274</td>  <td>12.7775</td>\n",
       "</tr>\n",
       "<tr>\n",
       "  <th>LEVI</th>  <td>-0.3283</td>  <td>0.4345</td>  <td>-0.7556</td> <td>0.4499</td>  <td>-1.1799</td> <td>0.5233</td> \n",
       "</tr>\n",
       "</table>"
      ],
      "text/plain": [
       "<class 'statsmodels.iolib.summary2.Summary'>\n",
       "\"\"\"\n",
       "                         Results: Logit\n",
       "=================================================================\n",
       "Model:              Logit            Pseudo R-squared: 0.409     \n",
       "Dependent Variable: MANIPULATOR      AIC:              118.4349  \n",
       "Date:               2022-05-27 18:19 BIC:              146.9693  \n",
       "No. Observations:   176              Log-Likelihood:   -50.217   \n",
       "Df Model:           8                LL-Null:          -84.934   \n",
       "Df Residuals:       167              LLR p-value:      6.3743e-12\n",
       "Converged:          1.0000           Scale:            1.0000    \n",
       "No. Iterations:     9.0000                                       \n",
       "-------------------------------------------------------------------\n",
       "          Coef.    Std.Err.      z      P>|z|     [0.025     0.975]\n",
       "-------------------------------------------------------------------\n",
       "const    -8.7195     1.8317   -4.7603   0.0000   -12.3095   -5.1294\n",
       "DSRI      1.1200     0.4129    2.7123   0.0067     0.3107    1.9293\n",
       "GMI       1.3670     0.4326    3.1603   0.0016     0.5192    2.2148\n",
       "AQI       0.5429     0.1390    3.9054   0.0001     0.2704    0.8153\n",
       "SGI       1.9698     0.6559    3.0032   0.0027     0.6842    3.2553\n",
       "DEPI      0.9152     0.6984    1.3104   0.1901    -0.4537    2.2840\n",
       "SGAI      0.2064     0.4273    0.4831   0.6290    -0.6310    1.0439\n",
       "ACCR      8.5025     2.1812    3.8981   0.0001     4.2274   12.7775\n",
       "LEVI     -0.3283     0.4345   -0.7556   0.4499    -1.1799    0.5233\n",
       "=================================================================\n",
       "\n",
       "\"\"\""
      ]
     },
     "execution_count": 9,
     "metadata": {},
     "output_type": "execute_result"
    }
   ],
   "source": [
    "X = df.drop(['Company Name','Year Ending','MANIPULATOR'], axis=1)\n",
    "y = df.MANIPULATOR\n",
    "\n",
    "# split the datasey into trina and test\n",
    "X_trn, X_tst, y_trn, y_tst = train_test_split(X,y, \n",
    "                                              test_size=0.2,\n",
    "                                              random_state=42)\n",
    "\n",
    "# build logistic regression model\n",
    "lm = sm.Logit(y_trn, sm.add_constant(X_trn)).fit()\n",
    "lm.summary2()\n"
   ]
  },
  {
   "cell_type": "markdown",
   "metadata": {},
   "source": [
    "> from this model we can see that except 'DEPI','SGAI' AND 'LEVI' all others are statistically significant varialbes as p < 0.05"
   ]
  },
  {
   "cell_type": "code",
   "execution_count": 10,
   "metadata": {},
   "outputs": [
    {
     "data": {
      "text/html": [
       "<div>\n",
       "<style scoped>\n",
       "    .dataframe tbody tr th:only-of-type {\n",
       "        vertical-align: middle;\n",
       "    }\n",
       "\n",
       "    .dataframe tbody tr th {\n",
       "        vertical-align: top;\n",
       "    }\n",
       "\n",
       "    .dataframe thead th {\n",
       "        text-align: right;\n",
       "    }\n",
       "</style>\n",
       "<table border=\"1\" class=\"dataframe\">\n",
       "  <thead>\n",
       "    <tr style=\"text-align: right;\">\n",
       "      <th></th>\n",
       "      <th>actual</th>\n",
       "      <th>Pred</th>\n",
       "      <th>final_pred</th>\n",
       "    </tr>\n",
       "  </thead>\n",
       "  <tbody>\n",
       "    <tr>\n",
       "      <th>132</th>\n",
       "      <td>0</td>\n",
       "      <td>0.006239</td>\n",
       "      <td>0</td>\n",
       "    </tr>\n",
       "    <tr>\n",
       "      <th>148</th>\n",
       "      <td>0</td>\n",
       "      <td>0.015190</td>\n",
       "      <td>0</td>\n",
       "    </tr>\n",
       "    <tr>\n",
       "      <th>93</th>\n",
       "      <td>0</td>\n",
       "      <td>0.031268</td>\n",
       "      <td>0</td>\n",
       "    </tr>\n",
       "    <tr>\n",
       "      <th>180</th>\n",
       "      <td>0</td>\n",
       "      <td>0.094016</td>\n",
       "      <td>0</td>\n",
       "    </tr>\n",
       "    <tr>\n",
       "      <th>15</th>\n",
       "      <td>1</td>\n",
       "      <td>0.584389</td>\n",
       "      <td>1</td>\n",
       "    </tr>\n",
       "    <tr>\n",
       "      <th>115</th>\n",
       "      <td>0</td>\n",
       "      <td>0.515787</td>\n",
       "      <td>1</td>\n",
       "    </tr>\n",
       "    <tr>\n",
       "      <th>172</th>\n",
       "      <td>0</td>\n",
       "      <td>0.034867</td>\n",
       "      <td>0</td>\n",
       "    </tr>\n",
       "    <tr>\n",
       "      <th>209</th>\n",
       "      <td>0</td>\n",
       "      <td>0.045111</td>\n",
       "      <td>0</td>\n",
       "    </tr>\n",
       "    <tr>\n",
       "      <th>75</th>\n",
       "      <td>0</td>\n",
       "      <td>0.632601</td>\n",
       "      <td>1</td>\n",
       "    </tr>\n",
       "    <tr>\n",
       "      <th>142</th>\n",
       "      <td>0</td>\n",
       "      <td>0.046117</td>\n",
       "      <td>0</td>\n",
       "    </tr>\n",
       "  </tbody>\n",
       "</table>\n",
       "</div>"
      ],
      "text/plain": [
       "     actual      Pred  final_pred\n",
       "132       0  0.006239           0\n",
       "148       0  0.015190           0\n",
       "93        0  0.031268           0\n",
       "180       0  0.094016           0\n",
       "15        1  0.584389           1\n",
       "115       0  0.515787           1\n",
       "172       0  0.034867           0\n",
       "209       0  0.045111           0\n",
       "75        0  0.632601           1\n",
       "142       0  0.046117           0"
      ]
     },
     "execution_count": 10,
     "metadata": {},
     "output_type": "execute_result"
    }
   ],
   "source": [
    "# test on test data\n",
    "predy = lm.predict(sm.add_constant(X_tst))\n",
    "\n",
    "test_df = pd.DataFrame({\"actual\":y_tst,\n",
    "                        \"Pred\": predy}\n",
    "                        )\n",
    "test_df['final_pred'] = test_df.Pred.map(lambda x: 1 if x > 0.5 else 0)\n",
    "test_df.head(10)"
   ]
  },
  {
   "cell_type": "code",
   "execution_count": 11,
   "metadata": {},
   "outputs": [
    {
     "name": "stdout",
     "output_type": "stream",
     "text": [
      "Accuracy of the logit model is:  0.8636363636363636\n",
      "Roc_auc_score of logit model:  0.7105263157894737\n"
     ]
    }
   ],
   "source": [
    "# check the accuracy and scoring\n",
    "accuracy = accuracy_score(test_df['actual'], test_df['final_pred'])\n",
    "print(\"Accuracy of the logit model is: \", accuracy)\n",
    "print(\"Roc_auc_score of logit model: \", roc_auc_score(y_tst, test_df.final_pred))"
   ]
  },
  {
   "cell_type": "markdown",
   "metadata": {},
   "source": [
    "> Support vector machine classification model"
   ]
  },
  {
   "cell_type": "code",
   "execution_count": 12,
   "metadata": {},
   "outputs": [
    {
     "name": "stdout",
     "output_type": "stream",
     "text": [
      "accuracy of the SVM model is:  0.8636363636363636\n",
      "Roc_auc_score of SVM model:  0.5\n"
     ]
    }
   ],
   "source": [
    "# scale the data \n",
    "scaler = MinMaxScaler()\n",
    "scaler.fit(X_trn)\n",
    "X_tr = scaler.transform(X_trn)\n",
    "X_ts = scaler.transform(X_tst)\n",
    "\n",
    "# build SVM model\n",
    "svmc = SVC(C=0.01)\n",
    "svmc.fit(X_tr,y_trn)\n",
    "pred_y = svmc.predict(X_ts)\n",
    "score = svmc.score(X_ts,y_tst)\n",
    "accuracys = accuracy_score(y_tst,pred_y)\n",
    "print(\"accuracy of the SVM model is: \", accuracys)\n",
    "print(\"Roc_auc_score of SVM model: \", roc_auc_score(y_tst, pred_y))"
   ]
  },
  {
   "cell_type": "markdown",
   "metadata": {},
   "source": [
    "> k-nearest neighbors model"
   ]
  },
  {
   "cell_type": "code",
   "execution_count": 13,
   "metadata": {},
   "outputs": [
    {
     "name": "stdout",
     "output_type": "stream",
     "text": [
      "Accuracy of kNN model is: 0.9318181818181818\n",
      "ROC-AUC score is:  0.75\n"
     ]
    }
   ],
   "source": [
    "# build k-NN model\n",
    "\n",
    "knn = KNeighborsClassifier(n_neighbors=3, weights=\"uniform\", p=4)\n",
    "knn.fit(X_tr,y_trn)\n",
    "pre = knn.predict(X_ts)\n",
    "acc = accuracy_score(y_tst,pre)\n",
    "print(\"Accuracy of kNN model is:\", acc)\n",
    "print(\"ROC-AUC score is: \", roc_auc_score(y_tst, pre))"
   ]
  },
  {
   "cell_type": "markdown",
   "metadata": {},
   "source": [
    "> Decision tree model"
   ]
  },
  {
   "cell_type": "code",
   "execution_count": 17,
   "metadata": {},
   "outputs": [
    {
     "name": "stdout",
     "output_type": "stream",
     "text": [
      "Accuracy of Decision Tree model is: 0.9545454545454546\n",
      "ROC-AUC score is:  0.8333333333333333\n"
     ]
    }
   ],
   "source": [
    "# build Decsion tree model\n",
    "\n",
    "Dt = DecisionTreeClassifier(criterion='gini', max_depth=7, max_leaf_nodes=3)\n",
    "Dt.fit(X_tr, y_trn)\n",
    "preds = Dt.predict(X_ts)\n",
    "accu = accuracy_score(y_tst, preds)\n",
    "print(\"Accuracy of Decision Tree model is:\", accu)\n",
    "print(\"ROC-AUC score is: \", roc_auc_score(y_tst, preds))"
   ]
  },
  {
   "cell_type": "markdown",
   "metadata": {},
   "source": [
    "# Conclusions:\n",
    "\n",
    "> We build 4 different models to experiment and check performance of models with unbalanced dataset.\n",
    "\n",
    "> It is found that with Logistics regression model we could archive upto 86% of accuracy with unbalanced class dataset and ROC-AUC being 71%\n",
    "\n",
    "> It is found that with SVM model we archived 86% accuracy but ROC_auc was only 50%. this indicates that True postives are not predicted well they are predicted as false negatives.\n",
    "\n",
    "> Our k-NN model performed well in terms of accuracy with 93% but ROC_AUC was lower which is not good model as well\n",
    "\n",
    "> In our decision tree model, we archived best accuracy among all the models of 95% and highest ROC_AUC score as well. this is says that tree based models are more good learners for classification problems irrespective of balanced or unbalanced data."
   ]
  }
 ],
 "metadata": {
  "interpreter": {
   "hash": "54b3f1729cfb7538ff06089894d77e9ae321ee55b6772555bb97ebde7b0d8561"
  },
  "kernelspec": {
   "display_name": "Python 3.8.13 ('mlcollab')",
   "language": "python",
   "name": "python3"
  },
  "language_info": {
   "codemirror_mode": {
    "name": "ipython",
    "version": 3
   },
   "file_extension": ".py",
   "mimetype": "text/x-python",
   "name": "python",
   "nbconvert_exporter": "python",
   "pygments_lexer": "ipython3",
   "version": "3.8.13"
  },
  "orig_nbformat": 4
 },
 "nbformat": 4,
 "nbformat_minor": 2
}
